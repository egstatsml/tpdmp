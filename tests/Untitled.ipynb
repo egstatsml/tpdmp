{
 "cells": [
  {
   "cell_type": "code",
   "execution_count": 1,
   "id": "desperate-impact",
   "metadata": {},
   "outputs": [],
   "source": [
    "import cv2\n",
    "import gzip\n",
    "import os\n",
    "import pickle\n",
    "from scipy.io import loadmat\n",
    "import numpy as np\n",
    "import tensorflow as tf\n",
    "import tensorflow_datasets as tfds\n",
    "from tensorflow import keras\n",
    "\n",
    "from sklearn.preprocessing import MinMaxScaler, scale\n",
    "from sklearn.datasets import make_moons\n",
    "from sklearn.model_selection import train_test_split\n",
    "from tensorflow import keras\n",
    "from matplotlib import pyplot as plt\n",
    "\n",
    "class Data(object):\n",
    "  \"\"\"Will hold data set and some properties\"\"\"\n",
    "  def __init__(self):\n",
    "    self.x_train = []\n",
    "    self.y_train = []\n",
    "    self.x_val = []\n",
    "    self.y_val = []\n",
    "    self.x_test = []\n",
    "    self.y_test = []\n",
    "    self.num_train = 0\n",
    "    self.num_test = 0\n",
    "    self.num_val = 0\n",
    "    self.x_test_orig = []\n",
    "    self.label_dict = []\n",
    "    self.dimension_dict = []\n",
    "    self.batch_size = []"
   ]
  },
  {
   "cell_type": "code",
   "execution_count": 20,
   "id": "joint-yeast",
   "metadata": {},
   "outputs": [],
   "source": [
    "def load_svhn_and_preprocess(split):\n",
    "  \"\"\"load in svhn data and performs preprocessing\n",
    "\n",
    "  The SVHN dataset is in a Matlab format.\n",
    "  Need to load it in using scipy.io.loadmat\n",
    "  When loading it in, will be a dict with items 'X' for the input\n",
    "  images and 'y' for the labels.\n",
    "  \"\"\"\n",
    "  print('WARNING!, have not implemented validation yet')\n",
    "  print('Currently just using validation set as test set')\n",
    "  dataset = Data()\n",
    "  svhn_dir = os.path.join(os.environ['DATA_PATH'], 'svhn')\n",
    "  # load in the SVHN data into dict objects\n",
    "  svhn_train = loadmat(os.path.join(svhn_dir, 'train_32x32.mat'))\n",
    "  svhn_test = loadmat(os.path.join(svhn_dir, 'test_32x32.mat'))\n",
    "  # extract the input data and preprocess\n",
    "  dataset.x_train = svhn_preprocess(svhn_train['X'])\n",
    "  dataset.x_test = svhn_preprocess(svhn_test['X'])\n",
    "  # extract the label data and one-hot encode it\n",
    "  # included minus one as svhn dataset is labelled from [1, 10]\n",
    "  # want to convert to [0, 9]\n",
    "  # currently zero is stored as class 10, so will just replace\n",
    "  # all the entries with a 10 as a zero\n",
    "  y_train = svhn_train['y']\n",
    "  y_test = svhn_test['y']\n",
    "  y_train[y_train == 10] = 0\n",
    "  y_test[y_test == 10] = 0\n",
    "  dataset.y_train = keras.utils.to_categorical(y_train, 10)\n",
    "  dataset.y_test = keras.utils.to_categorical(y_test, 10)\n",
    "  # setting validation data to just be the same as the test data\n",
    "  dataset.x_val = dataset.x_test\n",
    "  dataset.y_val = dataset.y_test\n",
    "  # creating the label_dict\n",
    "  dataset.label_dict = {0:0, 1:1, 2:2, 3:3, 4:4, 5:5, 6:6, 7:7, 8:8, 9:9}\n",
    "  # now create the dictionary to hold the dimensions of our data\n",
    "  dataset.dimension_dict = {'in_dim' : 3072, 'out_dim' : 10, 'in_height': 32,\n",
    "                    'in_width': 32, 'in_channels': 3}\n",
    "  np.save(\n",
    "    os.path.join(os.environ['DATA_PATH'], 'svhn_preprocessed', 'x_train.npy'),\n",
    "    dataset.x_train)\n",
    "  np.save(\n",
    "    os.path.join(os.environ['DATA_PATH'], 'svhn_preprocessed', 'y_train.npy'),\n",
    "    dataset.y_train)\n",
    "  np.save(\n",
    "    os.path.join(os.environ['DATA_PATH'], 'svhn_preprocessed', 'x_test.npy'),\n",
    "    dataset.x_test)\n",
    "  np.save(\n",
    "    os.path.join(os.environ['DATA_PATH'], 'svhn_preprocessed', 'y_test.npy'),\n",
    "    dataset.y_test)\n",
    "  np.save(\n",
    "    os.path.join(os.environ['DATA_PATH'], 'svhn_preprocessed', 'x_val.npy'),\n",
    "    dataset.x_val)\n",
    "  np.save(\n",
    "    os.path.join(os.environ['DATA_PATH'], 'svhn_preprocessed', 'y_val.npy'),\n",
    "    dataset.y_val)\n",
    "\n",
    "  return dataset"
   ]
  },
  {
   "cell_type": "code",
   "execution_count": 21,
   "id": "historical-pleasure",
   "metadata": {},
   "outputs": [],
   "source": [
    "def svhn_preprocess(svhn):\n",
    "  \"\"\"preprocessing of the street view house numbers dataset\n",
    "\n",
    "  First reshape to correct dimensions and normalise.\n",
    "  Then, further preprocessing is done using local contrast normalization\n",
    "  in accordance with [1, 2].\n",
    "\n",
    "  Args:\n",
    "    svhn (np.array):\n",
    "      street view house numbers dataset\n",
    "  Returns:\n",
    "    preprocessed svhn images\n",
    "\n",
    "  References:\n",
    "    [1] Sermanet, P., Chintala, S. and LeCun, Y., Convolutional Neural Networks\n",
    "    Applied toHouse Numbers Digit Classification.\n",
    "    [2] Zeiler, M. and Fergus, R., Stochastic Pooling for Regularization of Deep\n",
    "    Convolutional Neural Networks\n",
    "  \"\"\"\n",
    "  # swap the end axis to make the image index be the first dimension.\n",
    "  # ie. go from [H, W, C, idx] to [idx, H, W, C]\n",
    "  svhn = np.moveaxis(svhn, 3, 0)\n",
    "  # now perform local contrast normalization\n",
    "  svhn_normalized = local_contrast_normalization(svhn.astype(np.float32),\n",
    "                                                       7, True)\n",
    "  # apply global contrast normalization\n",
    "  svhn_normalized = global_contrast_normalization(svhn_normalized)\n",
    "  # now need to scale back to range [0, 1] so can convert back\n",
    "  svhn_normalized = ((svhn_normalized - np.min(svhn_normalized)) /\n",
    "                           (np.max(svhn_normalized) - np.min(svhn_normalized)))\n",
    "  # just saving a test figure\n",
    "  svhn = svhn\n",
    "  plt.figure()\n",
    "  plt.imshow(255 * svhn[0, ...].reshape([32, 32, 3]).astype(np.uint8))\n",
    "  plt.savefig('./test.png')\n",
    "  print('saved the figure')\n",
    "  return svhn"
   ]
  },
  {
   "cell_type": "code",
   "execution_count": 22,
   "id": "impaired-andorra",
   "metadata": {},
   "outputs": [],
   "source": [
    "def local_contrast_normalization(data, radius, use_divisor, threshold=1e-6):\n",
    "  \"\"\" Applies LeCun local contrast normalization [1]\n",
    "\n",
    "  Original code taken from [2] and modified for tensorflow usage\n",
    "\n",
    "  Args:\n",
    "    data (np.array):\n",
    "      4D image data in RGB format, and first dim being batch\n",
    "    radius (int)\n",
    "      determines size of Gaussian filter patch\n",
    "    use_divisor (bool):\n",
    "      whether or not to apply divisive normalization\n",
    "    threshold (float):\n",
    "      the threshold will be used to avoid division by zeros\n",
    "\n",
    "  Returns:\n",
    "    4D array with local contrast normalization applied to each image\n",
    "\n",
    "  References:\n",
    "    [1] Jarret, K. etal, What is the Best Multi-Stage Architecture for\n",
    "        Object Recognition?\n",
    "    [2] https://github.com/jostosh/theano_utils/blob/master/lcn.py\n",
    "  \"\"\"\n",
    "  # Get Gaussian filter\n",
    "  filters = gaussian_filter(radius, 3)\n",
    "  # Compute the Guassian weighted average by means of convolution\n",
    "  convout = tf.nn.conv2d(data, filters, 1, \"SAME\")\n",
    "  # subract from the original data\n",
    "  centered = data - convout\n",
    "  # Boolean marks whether or not to perform divisive step\n",
    "  if use_divisor:\n",
    "    # Note that the local variances can be computed by using the centered_X\n",
    "    # tensor. If we convolve this with the mean filter, that should give us\n",
    "    # the variance at each point. We simply take the square root to get our\n",
    "    # denominator\n",
    "    # Compute variances\n",
    "    sum_sqr = tf.nn.conv2d(tf.math.square(centered), filters, 1, \"SAME\")\n",
    "    # Take square root to get local standard deviation\n",
    "    denom = tf.math.sqrt(sum_sqr)\n",
    "    # find the mean of each image for each channel\n",
    "    per_img_mean = np.mean(denom, axis=(1,2))\n",
    "    # reshape the mean to go across all pixels so can compare\n",
    "    per_img_mean = np.repeat(per_img_mean[..., np.newaxis], 32, axis=2)\n",
    "    per_img_mean = np.repeat(per_img_mean[..., np.newaxis], 32, axis=3)\n",
    "    # now swap the axis so the channel axis is on the end again\n",
    "    per_img_mean = np.moveaxis(per_img_mean, 1, 3)\n",
    "    divisor = tf.math.maximum(\n",
    "      per_img_mean, tf.reshape(denom, [-1, data.shape[1], data.shape[2], 3]))\n",
    "    # Divisise step\n",
    "    new_X = centered / tf.math.maximum(divisor, threshold)\n",
    "  else:\n",
    "    new_X = centered\n",
    "  return np.array(new_X)"
   ]
  },
  {
   "cell_type": "code",
   "execution_count": 23,
   "id": "prescription-atmosphere",
   "metadata": {},
   "outputs": [],
   "source": [
    "def gaussian_filter(radius, channels):\n",
    "  \"\"\"create a Gaussian filter to be applied to a batch of images\n",
    "\n",
    "  Args:\n",
    "    radius (int):\n",
    "      square size of rhe kernel\n",
    "    channels (int):\n",
    "      the number of channels of Gaussian kernels\n",
    "\n",
    "  Returns:\n",
    "    Gaussian kernel of size [1, radius, radius, channels]\n",
    "  \"\"\"\n",
    "  # creating a 2d Gaussian\n",
    "  x, y = np.meshgrid(np.linspace(-1, 1, radius), np.linspace(-1 ,1 ,radius))\n",
    "  d = np.sqrt(x * x + y * y)\n",
    "  sigma, mu = 1.0, 0.0\n",
    "  gaussian_2d = np.exp(- ((d-mu)**2 / ( 2.0 * sigma**2 )))\n",
    "  print(gaussian_2d.shape)\n",
    "  # repeat for all the channels\n",
    "  gaussian_2d = gaussian_2d.reshape([radius, radius, 1])\n",
    "  gaussian_3d = np.repeat(gaussian_2d[..., np.newaxis], channels, axis=3)\n",
    "  print('here')\n",
    "  print(gaussian_3d.shape)\n",
    "  # then reshape to add a batch dimension of one, then return\n",
    "  return gaussian_3d#reshape([1, *gaussian_3d.shape])"
   ]
  },
  {
   "cell_type": "code",
   "execution_count": 24,
   "id": "enhanced-database",
   "metadata": {},
   "outputs": [],
   "source": [
    "def global_contrast_normalization(data, s=1, lmda=10, epsilon=1e-8):\n",
    "  \"\"\" from\n",
    "  https://datascience.stackexchange.com/questions/15110/how-to-implement-global-contrast-normalization-in-python\"\"\"\n",
    "  for img_idx in range(0, data.shape[0]):\n",
    "    for channel_idx in range(0, data.shape[3]):\n",
    "      X_average = np.mean(data[img_idx, :, :, channel_idx])\n",
    "      X = data[img_idx, :, :, channel_idx] - X_average\n",
    "      # `su` is here the mean, instead of the sum\n",
    "      contrast = np.sqrt(lmda + np.mean(X**2))\n",
    "      data[img_idx, :, :, channel_idx] = s * X / np.maximum(contrast, epsilon)\n",
    "  return data\n"
   ]
  },
  {
   "cell_type": "code",
   "execution_count": null,
   "id": "compact-report",
   "metadata": {},
   "outputs": [],
   "source": []
  },
  {
   "cell_type": "code",
   "execution_count": 25,
   "id": "ecological-effectiveness",
   "metadata": {},
   "outputs": [
    {
     "name": "stdout",
     "output_type": "stream",
     "text": [
      "WARNING!, have not implemented validation yet\n",
      "Currently just using validation set as test set\n",
      "(7, 7)\n",
      "here\n",
      "(7, 7, 1, 3)\n",
      "saved the figure\n",
      "(7, 7)\n",
      "here\n",
      "(7, 7, 1, 3)\n",
      "saved the figure\n"
     ]
    },
    {
     "data": {
      "image/png": "[encoded data removed]",
      "text/plain": [
       "<Figure size 432x288 with 1 Axes>"
      ]
     },
     "metadata": {
      "needs_background": "light"
     },
     "output_type": "display_data"
    },
    {
     "data": {
      "image/png": "[encoded data removed]",
      "text/plain": [
       "<Figure size 432x288 with 1 Axes>"
      ]
     },
     "metadata": {
      "needs_background": "light"
     },
     "output_type": "display_data"
    }
   ],
   "source": [
    "dataset = load_svhn_and_preprocess('')"
   ]
  },
  {
   "cell_type": "code",
   "execution_count": 29,
   "id": "first-affairs",
   "metadata": {},
   "outputs": [
    {
     "name": "stdout",
     "output_type": "stream",
     "text": [
      "[    3    21    34 ... 26006 26011 26021]\n"
     ]
    }
   ],
   "source": [
    "ind = np.where(np.argmax(dataset.y_test, axis=1) == 0)\n",
    "print(ind[0])"
   ]
  },
  {
   "cell_type": "code",
   "execution_count": 30,
   "id": "sexual-nylon",
   "metadata": {},
   "outputs": [
    {
     "data": {
      "text/plain": [
       "<matplotlib.image.AxesImage at 0x7fbd5f9f79e8>"
      ]
     },
     "execution_count": 30,
     "metadata": {},
     "output_type": "execute_result"
    },
    {
     "data": {
      "image/png": "[encoded data removed]",
      "text/plain": [
       "<Figure size 432x288 with 1 Axes>"
      ]
     },
     "metadata": {
      "needs_background": "light"
     },
     "output_type": "display_data"
    }
   ],
   "source": [
    "plt.imshow(dataset.x_test[ind[0][0], ...])"
   ]
  },
  {
   "cell_type": "code",
   "execution_count": 34,
   "id": "severe-participation",
   "metadata": {},
   "outputs": [
    {
     "name": "stderr",
     "output_type": "stream",
     "text": [
      "/home/xxxxxx/tf2_4/lib/python3.6/site-packages/ipykernel_launcher.py:6: MatplotlibDeprecationWarning: Passing non-integers as three-element position specification is deprecated since 3.3 and will be removed two minor releases later.\n",
      "  \n"
     ]
    },
    {
     "data": {
      "image/png": "[encoded data removed]",
      "text/plain": [
       "<Figure size 360x360 with 10 Axes>"
      ]
     },
     "metadata": {
      "needs_background": "light"
     },
     "output_type": "display_data"
    }
   ],
   "source": [
    "plt.figure(figsize=(5, 5))\n",
    "n = 10\n",
    "for i in range(n):\n",
    "    ind = np.where(np.argmax(dataset.y_test, axis=1) == i)[0][20]\n",
    "    # display original\n",
    "    ax = plt.subplot(n/2, n/2, i + 1)\n",
    "    plt.imshow(dataset.x_test[ind, ...].reshape(32, 32, 3))\n",
    "    ax.set_title('class {}'.format(i))\n",
    "    ax.get_xaxis().set_visible(False)\n",
    "    ax.get_yaxis().set_visible(False)\n",
    "plt.show()"
   ]
  },
  {
   "cell_type": "code",
   "execution_count": null,
   "id": "magnetic-premises",
   "metadata": {},
   "outputs": [],
   "source": []
  }
 ],
 "metadata": {
  "kernelspec": {
   "display_name": "Python 3",
   "language": "python",
   "name": "python3"
  },
  "language_info": {
   "codemirror_mode": {
    "name": "ipython",
    "version": 3
   },
   "file_extension": ".py",
   "mimetype": "text/x-python",
   "name": "python",
   "nbconvert_exporter": "python",
   "pygments_lexer": "ipython3",
   "version": "3.6.9"
  }
 },
 "nbformat": 4,
 "nbformat_minor": 5
}
